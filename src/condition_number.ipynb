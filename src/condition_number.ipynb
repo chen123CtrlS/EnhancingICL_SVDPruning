{
 "cells": [
  {
   "cell_type": "code",
   "execution_count": 1,
   "metadata": {},
   "outputs": [],
   "source": [
    "import numpy as np\n",
    "def get_con_A(A):\n",
    "    # 计算矩阵的条件数，默认使用2-范数\n",
    "    cond_number = np.linalg.cond(A)\n",
    "    print(f\"矩阵的2-范数条件数为: {cond_number}\")"
   ]
  },
  {
   "cell_type": "markdown",
   "metadata": {},
   "source": [
    "**example**"
   ]
  },
  {
   "cell_type": "code",
   "execution_count": null,
   "metadata": {},
   "outputs": [],
   "source": [
    "from transformers import AutoTokenizer\n",
    "from transformers import GPTJForCausalLM\n",
    "import torch\n",
    "llm_name = \"GPTJ\"\n",
    "llm_path = \"EleutherAI/gpt-j-6B\"\n",
    "tokenizer = AutoTokenizer.from_pretrained(llm_path)\n",
    "model = GPTJForCausalLM.from_pretrained(\n",
    "        llm_path,\n",
    "        revision=\"float16\",\n",
    "        torch_dtype=torch.float16\n",
    "    )"
   ]
  },
  {
   "cell_type": "code",
   "execution_count": null,
   "metadata": {},
   "outputs": [],
   "source": [
    "converted_names = [\"mlp.up_proj.weight\"]\n",
    "for name, param in model.named_parameters():\n",
    "    modify_flag = any([name.endswith(f\"{converted_name}\") for converted_name in converted_names])\n",
    "    if modify_flag==False:\n",
    "        continue\n",
    "    print(name)\n",
    "    # print(param)\n",
    "    A  =  param.detach().type(torch.float32).cpu().numpy()\n",
    "    get_con_A(A)"
   ]
  }
 ],
 "metadata": {
  "kernelspec": {
   "display_name": "pytorch310",
   "language": "python",
   "name": "python3"
  },
  "language_info": {
   "codemirror_mode": {
    "name": "ipython",
    "version": 3
   },
   "file_extension": ".py",
   "mimetype": "text/x-python",
   "name": "python",
   "nbconvert_exporter": "python",
   "pygments_lexer": "ipython3",
   "version": "3.10.13"
  }
 },
 "nbformat": 4,
 "nbformat_minor": 2
}
